{
 "cells": [
  {
   "cell_type": "code",
   "execution_count": 1,
   "id": "7633a019-d0ed-4e6a-8849-0e66ba3399b7",
   "metadata": {},
   "outputs": [],
   "source": [
    "import pandas as pd\n",
    "import numpy as np"
   ]
  },
  {
   "cell_type": "code",
   "execution_count": 10,
   "id": "e1b4ce77-8bda-4d34-b15b-40ec0dbd5254",
   "metadata": {},
   "outputs": [],
   "source": [
    "from Bio import SeqIO"
   ]
  },
  {
   "cell_type": "code",
   "execution_count": 8,
   "id": "faaebd81-a799-47e7-8df3-ffa135333457",
   "metadata": {},
   "outputs": [],
   "source": [
    "try:\n",
    "    # Attempt to read the CSV file, skipping lines with parsing errors\n",
    "    lncBase = pd.read_csv('LncBasev2_download.csv', delimiter='\\t')\n",
    "except pd.errors.ParserError as e:\n",
    "    print(f\"ParserError: {e}\")"
   ]
  },
  {
   "cell_type": "code",
   "execution_count": 9,
   "id": "81f77730-33af-4975-9583-af4ea5bf3311",
   "metadata": {},
   "outputs": [
    {
     "data": {
      "text/html": [
       "<div>\n",
       "<style scoped>\n",
       "    .dataframe tbody tr th:only-of-type {\n",
       "        vertical-align: middle;\n",
       "    }\n",
       "\n",
       "    .dataframe tbody tr th {\n",
       "        vertical-align: top;\n",
       "    }\n",
       "\n",
       "    .dataframe thead th {\n",
       "        text-align: right;\n",
       "    }\n",
       "</style>\n",
       "<table border=\"1\" class=\"dataframe\">\n",
       "  <thead>\n",
       "    <tr style=\"text-align: right;\">\n",
       "      <th></th>\n",
       "      <th>geneId</th>\n",
       "      <th>geneName</th>\n",
       "      <th>mirna</th>\n",
       "      <th>species</th>\n",
       "      <th>cell_line</th>\n",
       "      <th>tissue</th>\n",
       "      <th>category</th>\n",
       "      <th>method</th>\n",
       "      <th>positive_negative</th>\n",
       "      <th>direct_indirect</th>\n",
       "      <th>condition</th>\n",
       "    </tr>\n",
       "  </thead>\n",
       "  <tbody>\n",
       "    <tr>\n",
       "      <th>0</th>\n",
       "      <td>ENSG00000002079</td>\n",
       "      <td>MYH16</td>\n",
       "      <td>hsa-miR-4786-3p</td>\n",
       "      <td>Homo sapiens</td>\n",
       "      <td>293S</td>\n",
       "      <td>Kidney</td>\n",
       "      <td>Embryonic/Fetal</td>\n",
       "      <td>HITS-CLIP</td>\n",
       "      <td>POSITIVE</td>\n",
       "      <td>DIRECT</td>\n",
       "      <td>treatment: emetine</td>\n",
       "    </tr>\n",
       "    <tr>\n",
       "      <th>1</th>\n",
       "      <td>ENSG00000067601</td>\n",
       "      <td>PMS2P4</td>\n",
       "      <td>hsa-miR-24-3p</td>\n",
       "      <td>Homo sapiens</td>\n",
       "      <td>NaN</td>\n",
       "      <td>Brain</td>\n",
       "      <td>Normal/Primary</td>\n",
       "      <td>HITS-CLIP</td>\n",
       "      <td>POSITIVE</td>\n",
       "      <td>DIRECT</td>\n",
       "      <td>NaN</td>\n",
       "    </tr>\n",
       "    <tr>\n",
       "      <th>2</th>\n",
       "      <td>ENSG00000073905</td>\n",
       "      <td>VDAC1P1</td>\n",
       "      <td>hsa-miR-1179</td>\n",
       "      <td>Homo sapiens</td>\n",
       "      <td>293S</td>\n",
       "      <td>Kidney</td>\n",
       "      <td>Embryonic/Fetal</td>\n",
       "      <td>HITS-CLIP</td>\n",
       "      <td>POSITIVE</td>\n",
       "      <td>DIRECT</td>\n",
       "      <td>no treatment (control)</td>\n",
       "    </tr>\n",
       "    <tr>\n",
       "      <th>3</th>\n",
       "      <td>ENSG00000073905</td>\n",
       "      <td>VDAC1P1</td>\n",
       "      <td>hsa-miR-139-5p</td>\n",
       "      <td>Homo sapiens</td>\n",
       "      <td>NaN</td>\n",
       "      <td>Brain</td>\n",
       "      <td>Normal/Primary</td>\n",
       "      <td>HITS-CLIP</td>\n",
       "      <td>POSITIVE</td>\n",
       "      <td>DIRECT</td>\n",
       "      <td>NaN</td>\n",
       "    </tr>\n",
       "    <tr>\n",
       "      <th>4</th>\n",
       "      <td>ENSG00000073905</td>\n",
       "      <td>VDAC1P1</td>\n",
       "      <td>hsa-miR-27a-3p</td>\n",
       "      <td>Homo sapiens</td>\n",
       "      <td>NaN</td>\n",
       "      <td>Brain</td>\n",
       "      <td>Normal/Primary</td>\n",
       "      <td>HITS-CLIP</td>\n",
       "      <td>POSITIVE</td>\n",
       "      <td>DIRECT</td>\n",
       "      <td>NaN</td>\n",
       "    </tr>\n",
       "  </tbody>\n",
       "</table>\n",
       "</div>"
      ],
      "text/plain": [
       "            geneId geneName            mirna       species cell_line  tissue  \\\n",
       "0  ENSG00000002079    MYH16  hsa-miR-4786-3p  Homo sapiens      293S  Kidney   \n",
       "1  ENSG00000067601   PMS2P4    hsa-miR-24-3p  Homo sapiens       NaN   Brain   \n",
       "2  ENSG00000073905  VDAC1P1     hsa-miR-1179  Homo sapiens      293S  Kidney   \n",
       "3  ENSG00000073905  VDAC1P1   hsa-miR-139-5p  Homo sapiens       NaN   Brain   \n",
       "4  ENSG00000073905  VDAC1P1   hsa-miR-27a-3p  Homo sapiens       NaN   Brain   \n",
       "\n",
       "          category     method positive_negative direct_indirect  \\\n",
       "0  Embryonic/Fetal  HITS-CLIP          POSITIVE          DIRECT   \n",
       "1   Normal/Primary  HITS-CLIP          POSITIVE          DIRECT   \n",
       "2  Embryonic/Fetal  HITS-CLIP          POSITIVE          DIRECT   \n",
       "3   Normal/Primary  HITS-CLIP          POSITIVE          DIRECT   \n",
       "4   Normal/Primary  HITS-CLIP          POSITIVE          DIRECT   \n",
       "\n",
       "                condition  \n",
       "0      treatment: emetine  \n",
       "1                     NaN  \n",
       "2  no treatment (control)  \n",
       "3                     NaN  \n",
       "4                     NaN  "
      ]
     },
     "execution_count": 9,
     "metadata": {},
     "output_type": "execute_result"
    }
   ],
   "source": [
    "lncBase.head()"
   ]
  },
  {
   "cell_type": "code",
   "execution_count": 18,
   "id": "686900cd-c9e8-4492-a658-3d170726bf63",
   "metadata": {},
   "outputs": [],
   "source": [
    "# Step 1: Parse the .gtf file\n",
    "def parse_gtf(gtf_file):\n",
    "    gtf_data = {}\n",
    "    with open(gtf_file, 'r') as file:\n",
    "        for line in file:\n",
    "            if not line.startswith('#'):\n",
    "                fields = line.strip().split('\\t')\n",
    "                if fields[2] == \"transcript\":\n",
    "                    gene_id = [x for x in fields[8].split(';') if \"gene_id\" in x][0].split(\"\\\"\")[1]\n",
    "                    # Remove version from gene_id\n",
    "                    gene_id = gene_id.split('.')[0]\n",
    "                    gtf_data[gene_id] = {\n",
    "                        'chromosome': fields[0],\n",
    "                        'start': int(fields[3]),\n",
    "                        'end': int(fields[4])\n",
    "                    }\n",
    "    return gtf_data"
   ]
  },
  {
   "cell_type": "code",
   "execution_count": 12,
   "id": "bb894dce-7bd5-4b10-804c-794a6291b97e",
   "metadata": {},
   "outputs": [],
   "source": [
    "gtf_file = \"gencode.v29.long_noncoding_RNAs.gtf\"\n",
    "gtf_data = parse_gtf(gtf_file)"
   ]
  },
  {
   "cell_type": "code",
   "execution_count": 19,
   "id": "6be30146-cdd6-47ee-a018-b1bab7d38f2f",
   "metadata": {},
   "outputs": [],
   "source": [
    "# Step 2: Extract sequence using coordinates\n",
    "def extract_sequence(fasta_file, gtf_data):\n",
    "    sequences = {}\n",
    "    for record in SeqIO.parse(fasta_file, \"fasta\"):\n",
    "        for gene_id, coords in gtf_data.items():\n",
    "            if record.id == coords['chromosome']:\n",
    "                sequences[gene_id] = str(record.seq[coords['start']:coords['end']])\n",
    "    return sequences\n"
   ]
  },
  {
   "cell_type": "code",
   "execution_count": 20,
   "id": "64c7e6ae-0c0d-470b-9390-01b9d78b359d",
   "metadata": {
    "editable": true,
    "slideshow": {
     "slide_type": ""
    },
    "tags": []
   },
   "outputs": [],
   "source": [
    "fasta_file = \"gencode.v29.transcripts.fa\"\n",
    "sequences = extract_sequence(fasta_file, gtf_data)"
   ]
  },
  {
   "cell_type": "code",
   "execution_count": 21,
   "id": "3d1e234b-553c-41ab-867b-0622f3102835",
   "metadata": {},
   "outputs": [],
   "source": [
    "# Step 3: Append the sequence to your dataframe\n",
    "lncBase['sequence'] = lncBase['geneId'].map(sequences)"
   ]
  },
  {
   "cell_type": "code",
   "execution_count": 22,
   "id": "0eb6a8a5-48ad-4fda-87f1-57eef493bd7e",
   "metadata": {
    "editable": true,
    "slideshow": {
     "slide_type": ""
    },
    "tags": []
   },
   "outputs": [
    {
     "data": {
      "text/html": [
       "<div>\n",
       "<style scoped>\n",
       "    .dataframe tbody tr th:only-of-type {\n",
       "        vertical-align: middle;\n",
       "    }\n",
       "\n",
       "    .dataframe tbody tr th {\n",
       "        vertical-align: top;\n",
       "    }\n",
       "\n",
       "    .dataframe thead th {\n",
       "        text-align: right;\n",
       "    }\n",
       "</style>\n",
       "<table border=\"1\" class=\"dataframe\">\n",
       "  <thead>\n",
       "    <tr style=\"text-align: right;\">\n",
       "      <th></th>\n",
       "      <th>geneId</th>\n",
       "      <th>geneName</th>\n",
       "      <th>mirna</th>\n",
       "      <th>species</th>\n",
       "      <th>cell_line</th>\n",
       "      <th>tissue</th>\n",
       "      <th>category</th>\n",
       "      <th>method</th>\n",
       "      <th>positive_negative</th>\n",
       "      <th>direct_indirect</th>\n",
       "      <th>condition</th>\n",
       "      <th>sequence</th>\n",
       "    </tr>\n",
       "  </thead>\n",
       "  <tbody>\n",
       "    <tr>\n",
       "      <th>0</th>\n",
       "      <td>ENSG00000002079</td>\n",
       "      <td>MYH16</td>\n",
       "      <td>hsa-miR-4786-3p</td>\n",
       "      <td>Homo sapiens</td>\n",
       "      <td>293S</td>\n",
       "      <td>Kidney</td>\n",
       "      <td>Embryonic/Fetal</td>\n",
       "      <td>HITS-CLIP</td>\n",
       "      <td>POSITIVE</td>\n",
       "      <td>DIRECT</td>\n",
       "      <td>treatment: emetine</td>\n",
       "      <td>NaN</td>\n",
       "    </tr>\n",
       "    <tr>\n",
       "      <th>1</th>\n",
       "      <td>ENSG00000067601</td>\n",
       "      <td>PMS2P4</td>\n",
       "      <td>hsa-miR-24-3p</td>\n",
       "      <td>Homo sapiens</td>\n",
       "      <td>NaN</td>\n",
       "      <td>Brain</td>\n",
       "      <td>Normal/Primary</td>\n",
       "      <td>HITS-CLIP</td>\n",
       "      <td>POSITIVE</td>\n",
       "      <td>DIRECT</td>\n",
       "      <td>NaN</td>\n",
       "      <td>NaN</td>\n",
       "    </tr>\n",
       "    <tr>\n",
       "      <th>2</th>\n",
       "      <td>ENSG00000073905</td>\n",
       "      <td>VDAC1P1</td>\n",
       "      <td>hsa-miR-1179</td>\n",
       "      <td>Homo sapiens</td>\n",
       "      <td>293S</td>\n",
       "      <td>Kidney</td>\n",
       "      <td>Embryonic/Fetal</td>\n",
       "      <td>HITS-CLIP</td>\n",
       "      <td>POSITIVE</td>\n",
       "      <td>DIRECT</td>\n",
       "      <td>no treatment (control)</td>\n",
       "      <td>NaN</td>\n",
       "    </tr>\n",
       "    <tr>\n",
       "      <th>3</th>\n",
       "      <td>ENSG00000073905</td>\n",
       "      <td>VDAC1P1</td>\n",
       "      <td>hsa-miR-139-5p</td>\n",
       "      <td>Homo sapiens</td>\n",
       "      <td>NaN</td>\n",
       "      <td>Brain</td>\n",
       "      <td>Normal/Primary</td>\n",
       "      <td>HITS-CLIP</td>\n",
       "      <td>POSITIVE</td>\n",
       "      <td>DIRECT</td>\n",
       "      <td>NaN</td>\n",
       "      <td>NaN</td>\n",
       "    </tr>\n",
       "    <tr>\n",
       "      <th>4</th>\n",
       "      <td>ENSG00000073905</td>\n",
       "      <td>VDAC1P1</td>\n",
       "      <td>hsa-miR-27a-3p</td>\n",
       "      <td>Homo sapiens</td>\n",
       "      <td>NaN</td>\n",
       "      <td>Brain</td>\n",
       "      <td>Normal/Primary</td>\n",
       "      <td>HITS-CLIP</td>\n",
       "      <td>POSITIVE</td>\n",
       "      <td>DIRECT</td>\n",
       "      <td>NaN</td>\n",
       "      <td>NaN</td>\n",
       "    </tr>\n",
       "  </tbody>\n",
       "</table>\n",
       "</div>"
      ],
      "text/plain": [
       "            geneId geneName            mirna       species cell_line  tissue  \\\n",
       "0  ENSG00000002079    MYH16  hsa-miR-4786-3p  Homo sapiens      293S  Kidney   \n",
       "1  ENSG00000067601   PMS2P4    hsa-miR-24-3p  Homo sapiens       NaN   Brain   \n",
       "2  ENSG00000073905  VDAC1P1     hsa-miR-1179  Homo sapiens      293S  Kidney   \n",
       "3  ENSG00000073905  VDAC1P1   hsa-miR-139-5p  Homo sapiens       NaN   Brain   \n",
       "4  ENSG00000073905  VDAC1P1   hsa-miR-27a-3p  Homo sapiens       NaN   Brain   \n",
       "\n",
       "          category     method positive_negative direct_indirect  \\\n",
       "0  Embryonic/Fetal  HITS-CLIP          POSITIVE          DIRECT   \n",
       "1   Normal/Primary  HITS-CLIP          POSITIVE          DIRECT   \n",
       "2  Embryonic/Fetal  HITS-CLIP          POSITIVE          DIRECT   \n",
       "3   Normal/Primary  HITS-CLIP          POSITIVE          DIRECT   \n",
       "4   Normal/Primary  HITS-CLIP          POSITIVE          DIRECT   \n",
       "\n",
       "                condition  sequence  \n",
       "0      treatment: emetine       NaN  \n",
       "1                     NaN       NaN  \n",
       "2  no treatment (control)       NaN  \n",
       "3                     NaN       NaN  \n",
       "4                     NaN       NaN  "
      ]
     },
     "execution_count": 22,
     "metadata": {},
     "output_type": "execute_result"
    }
   ],
   "source": [
    "lncBase.head()"
   ]
  },
  {
   "cell_type": "code",
   "execution_count": 24,
   "id": "f4b8efea-e1eb-46d5-a358-acddabc848af",
   "metadata": {},
   "outputs": [
    {
     "name": "stdout",
     "output_type": "stream",
     "text": [
      "Missing gene IDs: 8216\n"
     ]
    }
   ],
   "source": [
    "missing_ids = lncBase[~lncBase['geneId'].isin(sequences.keys())]['geneId'].unique()\n",
    "print(f\"Missing gene IDs: {len(missing_ids)}\")"
   ]
  },
  {
   "cell_type": "code",
   "execution_count": 25,
   "id": "a7e9660c-f80d-4b1d-a60e-0a4b13eeffd5",
   "metadata": {},
   "outputs": [
    {
     "name": "stdout",
     "output_type": "stream",
     "text": [
      "[]\n"
     ]
    }
   ],
   "source": [
    "print(list(sequences.keys())[:5])"
   ]
  },
  {
   "cell_type": "code",
   "execution_count": 23,
   "id": "bf6f1aed-6dfb-4d0d-847f-5e26068adade",
   "metadata": {
    "editable": true,
    "slideshow": {
     "slide_type": ""
    },
    "tags": []
   },
   "outputs": [
    {
     "name": "stdout",
     "output_type": "stream",
     "text": [
      "Empty DataFrame\n",
      "Columns: [geneId, geneName, mirna, species, cell_line, tissue, category, method, positive_negative, direct_indirect, condition, sequence]\n",
      "Index: []\n"
     ]
    }
   ],
   "source": [
    "filtered_df = lncBase[lncBase['sequence'].notna()]\n",
    "print(filtered_df)"
   ]
  }
 ],
 "metadata": {
  "kernelspec": {
   "display_name": "gnn_kernel",
   "language": "python",
   "name": "gnn_kernel"
  },
  "language_info": {
   "codemirror_mode": {
    "name": "ipython",
    "version": 3
   },
   "file_extension": ".py",
   "mimetype": "text/x-python",
   "name": "python",
   "nbconvert_exporter": "python",
   "pygments_lexer": "ipython3",
   "version": "3.9.16"
  }
 },
 "nbformat": 4,
 "nbformat_minor": 5
}
