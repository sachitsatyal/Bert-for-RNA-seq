{
 "cells": [
  {
   "cell_type": "code",
   "execution_count": 1,
   "metadata": {
    "collapsed": true,
    "ExecuteTime": {
     "start_time": "2023-04-20T18:46:55.472957Z",
     "end_time": "2023-04-20T18:46:57.145506Z"
    }
   },
   "outputs": [],
   "source": [
    "import openomics\n",
    "import rdatkit"
   ]
  },
  {
   "cell_type": "code",
   "execution_count": 3,
   "outputs": [
    {
     "data": {
      "text/plain": "<rdatkit.handler.RDATFile at 0x7fcbcb7cc9a0>"
     },
     "execution_count": 3,
     "metadata": {},
     "output_type": "execute_result"
    }
   ],
   "source": [
    "# create RDATFile instance\n",
    "rdat = rdatkit.RDATFile()\n",
    "# load RDAT file\n",
    "rdat.load(open('data/rmdb/FLUORSW_BZCN_0028.rdat', 'r'))\n",
    "rdat"
   ],
   "metadata": {
    "collapsed": false,
    "ExecuteTime": {
     "start_time": "2023-04-20T18:47:52.025558Z",
     "end_time": "2023-04-20T18:47:52.050141Z"
    }
   }
  },
  {
   "cell_type": "code",
   "execution_count": 4,
   "outputs": [
    {
     "data": {
      "text/plain": "['__class__',\n '__delattr__',\n '__dict__',\n '__dir__',\n '__doc__',\n '__eq__',\n '__format__',\n '__ge__',\n '__getattribute__',\n '__gt__',\n '__hash__',\n '__init__',\n '__init_subclass__',\n '__le__',\n '__lt__',\n '__module__',\n '__ne__',\n '__new__',\n '__reduce__',\n '__reduce_ex__',\n '__repr__',\n '__setattr__',\n '__sizeof__',\n '__str__',\n '__subclasshook__',\n '__weakref__',\n '_annotation_str',\n '_append_new_data_section',\n '_parse_annotations',\n '_parse_data_block',\n 'annotations',\n 'comments',\n 'constructs',\n 'data_types',\n 'errors',\n 'filename',\n 'load',\n 'loaded',\n 'mutpos',\n 'reads',\n 'save',\n 'save_construct',\n 'toISATAB',\n 'traces',\n 'validate',\n 'values',\n 'version',\n 'xsels']"
     },
     "execution_count": 4,
     "metadata": {},
     "output_type": "execute_result"
    }
   ],
   "source": [
    "dir(rdat)"
   ],
   "metadata": {
    "collapsed": false,
    "ExecuteTime": {
     "start_time": "2023-04-20T18:47:56.053483Z",
     "end_time": "2023-04-20T18:47:56.102667Z"
    }
   }
  },
  {
   "cell_type": "code",
   "execution_count": 22,
   "outputs": [
    {
     "data": {
      "text/plain": "{'modifier': ['BzCN'],\n 'experimentType': ['StandardState'],\n 'experiment': ['cotranscriptional SHAPE-Seq'],\n 'chemical': ['Tris-acetate:20mM (pH8.0) chemical:MgCl2:5mM    chemical:EDTA:0.1mM    chemical:DTT:1mM    chemical:KCl:50mM    chemical:NTPs:200uM    chemical:BSA:1mg/mL     temperature:37C']}"
     },
     "execution_count": 22,
     "metadata": {},
     "output_type": "execute_result"
    }
   ],
   "source": [
    "rdat.annotations"
   ],
   "metadata": {
    "collapsed": false,
    "ExecuteTime": {
     "start_time": "2023-04-20T18:54:27.179726Z",
     "end_time": "2023-04-20T18:54:27.275201Z"
    }
   }
  },
  {
   "cell_type": "code",
   "execution_count": 17,
   "outputs": [
    {
     "data": {
      "text/plain": "<rdatkit.handler.ISATABFile at 0x7fcbcb644d30>"
     },
     "execution_count": 17,
     "metadata": {},
     "output_type": "execute_result"
    }
   ],
   "source": [
    "isatab = rdat.toISATAB()\n",
    "isatab"
   ],
   "metadata": {
    "collapsed": false,
    "ExecuteTime": {
     "start_time": "2023-04-20T18:53:41.570180Z",
     "end_time": "2023-04-20T18:53:41.574189Z"
    }
   }
  },
  {
   "cell_type": "code",
   "execution_count": 21,
   "outputs": [
    {
     "data": {
      "text/plain": "['Source Name',\n 'Characteristics[Nucleotide Sequence]',\n 'Characteristics[Nucleotide Type]',\n 'Characteristics[RNA Production]',\n 'Protocol REF',\n 'Parameter Value[Data Starts at Sequence Position]',\n 'Term Source REF',\n 'Term Accession Number',\n 'Assay Name',\n 'Raw Data File',\n 'Performer',\n 'Date']"
     },
     "execution_count": 21,
     "metadata": {},
     "output_type": "execute_result"
    }
   ],
   "source": [
    "isatab.assays_keys"
   ],
   "metadata": {
    "collapsed": false,
    "ExecuteTime": {
     "start_time": "2023-04-20T18:54:11.269056Z",
     "end_time": "2023-04-20T18:54:11.281455Z"
    }
   }
  },
  {
   "cell_type": "code",
   "execution_count": null,
   "outputs": [],
   "source": [],
   "metadata": {
    "collapsed": false
   }
  }
 ],
 "metadata": {
  "kernelspec": {
   "display_name": "Python 3",
   "language": "python",
   "name": "python3"
  },
  "language_info": {
   "codemirror_mode": {
    "name": "ipython",
    "version": 2
   },
   "file_extension": ".py",
   "mimetype": "text/x-python",
   "name": "python",
   "nbconvert_exporter": "python",
   "pygments_lexer": "ipython2",
   "version": "2.7.6"
  }
 },
 "nbformat": 4,
 "nbformat_minor": 0
}
