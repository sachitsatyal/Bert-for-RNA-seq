{
 "cells": [
  {
   "cell_type": "code",
   "execution_count": 34,
   "metadata": {
    "collapsed": true,
    "ExecuteTime": {
     "start_time": "2023-04-20T21:08:46.537091Z",
     "end_time": "2023-04-20T21:08:47.936204Z"
    }
   },
   "outputs": [],
   "source": [
    "import numpy as np\n",
    "import openomics\n",
    "import rdatkit\n",
    "\n",
    "#\n",
    "from pprint import pprint\n",
    "from src.utils.tensors import tensor_sizes"
   ]
  },
  {
   "cell_type": "markdown",
   "source": [
    "# Load RDAT file"
   ],
   "metadata": {
    "collapsed": false
   }
  },
  {
   "cell_type": "code",
   "execution_count": 3,
   "outputs": [
    {
     "data": {
      "text/plain": "defaultdict(list,\n            {'add Riboswitch 13-125, V. vulnificus': <rdatkit.handler.RDATSection at 0x7f1a90374a60>})"
     },
     "execution_count": 3,
     "metadata": {},
     "output_type": "execute_result"
    }
   ],
   "source": [
    "# create RDATFile instance\n",
    "rdat = rdatkit.RDATFile()\n",
    "# load RDAT file\n",
    "rdat.load(open('data/rmdb/ADD125_STD_0001.rdat', 'r'))\n",
    "rdat.constructs"
   ],
   "metadata": {
    "collapsed": false,
    "ExecuteTime": {
     "start_time": "2023-04-20T20:57:57.756100Z",
     "end_time": "2023-04-20T20:57:57.776339Z"
    }
   }
  },
  {
   "cell_type": "code",
   "execution_count": 4,
   "outputs": [
    {
     "data": {
      "text/plain": "'add Riboswitch 13-125, V. vulnificus'"
     },
     "execution_count": 4,
     "metadata": {},
     "output_type": "execute_result"
    }
   ],
   "source": [
    "construct_name = list(rdat.constructs.keys())[0]\n",
    "construct_name"
   ],
   "metadata": {
    "collapsed": false,
    "ExecuteTime": {
     "start_time": "2023-04-20T20:57:57.955815Z",
     "end_time": "2023-04-20T20:57:57.959750Z"
    }
   }
  },
  {
   "cell_type": "markdown",
   "source": [
    "## Explore RDAT file"
   ],
   "metadata": {
    "collapsed": false
   }
  },
  {
   "cell_type": "code",
   "execution_count": 6,
   "outputs": [
    {
     "data": {
      "text/plain": "(6, 113)"
     },
     "execution_count": 6,
     "metadata": {},
     "output_type": "execute_result"
    }
   ],
   "source": [
    "np.array(rdat.values[construct_name]).shape"
   ],
   "metadata": {
    "collapsed": false,
    "ExecuteTime": {
     "start_time": "2023-04-20T20:58:33.136332Z",
     "end_time": "2023-04-20T20:58:33.185099Z"
    }
   }
  },
  {
   "cell_type": "code",
   "execution_count": 7,
   "outputs": [
    {
     "data": {
      "text/plain": "(6, 113)"
     },
     "execution_count": 7,
     "metadata": {},
     "output_type": "execute_result"
    }
   ],
   "source": [
    "np.array(rdat.errors[construct_name]).shape"
   ],
   "metadata": {
    "collapsed": false,
    "ExecuteTime": {
     "start_time": "2023-04-20T20:58:33.740991Z",
     "end_time": "2023-04-20T20:58:33.755965Z"
    }
   }
  },
  {
   "cell_type": "markdown",
   "source": [
    "## Explore RDAT constructs"
   ],
   "metadata": {
    "collapsed": false
   }
  },
  {
   "cell_type": "code",
   "execution_count": 8,
   "outputs": [
    {
     "data": {
      "text/plain": "defaultdict(list,\n            {'add Riboswitch 13-125, V. vulnificus': <rdatkit.handler.RDATSection at 0x7f1a90374a60>})"
     },
     "execution_count": 8,
     "metadata": {},
     "output_type": "execute_result"
    }
   ],
   "source": [
    "dir(rdat)\n",
    "rdat.constructs"
   ],
   "metadata": {
    "collapsed": false,
    "ExecuteTime": {
     "start_time": "2023-04-20T20:58:38.781571Z",
     "end_time": "2023-04-20T20:58:38.790625Z"
    }
   }
  },
  {
   "cell_type": "code",
   "execution_count": 23,
   "outputs": [
    {
     "data": {
      "text/plain": "['__class__',\n '__delattr__',\n '__dict__',\n '__dir__',\n '__doc__',\n '__eq__',\n '__format__',\n '__ge__',\n '__getattribute__',\n '__gt__',\n '__hash__',\n '__init__',\n '__init_subclass__',\n '__le__',\n '__lt__',\n '__module__',\n '__ne__',\n '__new__',\n '__reduce__',\n '__reduce_ex__',\n '__repr__',\n '__setattr__',\n '__sizeof__',\n '__str__',\n '__subclasshook__',\n '__weakref__',\n 'annotations',\n 'data',\n 'name',\n 'offset',\n 'seqpos',\n 'sequence',\n 'sequences',\n 'structure',\n 'structures',\n 'xsel']"
     },
     "execution_count": 23,
     "metadata": {},
     "output_type": "execute_result"
    }
   ],
   "source": [
    "rdat_sec = rdat.constructs[construct_name]\n",
    "dir(rdat_sec)"
   ],
   "metadata": {
    "collapsed": false,
    "ExecuteTime": {
     "start_time": "2023-04-20T21:03:35.651340Z",
     "end_time": "2023-04-20T21:03:35.673223Z"
    }
   }
  },
  {
   "cell_type": "code",
   "execution_count": 37,
   "outputs": [],
   "source": [],
   "metadata": {
    "collapsed": false,
    "ExecuteTime": {
     "start_time": "2023-04-20T21:22:32.713814Z",
     "end_time": "2023-04-20T21:22:32.730746Z"
    }
   }
  },
  {
   "cell_type": "code",
   "execution_count": 11,
   "outputs": [
    {
     "data": {
      "text/plain": "'CGCUUCAUAUAAUCCUAAUGAUAUGGUUUGGGAGUUUCUACCAAGAGCCUUAAACUCUUGAUUAUGAAGUCUGUCGCUUUAUCCGAAAUUUUAUAAAGAGAAGACUCAUGAAU'"
     },
     "execution_count": 11,
     "metadata": {},
     "output_type": "execute_result"
    }
   ],
   "source": [
    "rdat_sec.sequence"
   ],
   "metadata": {
    "collapsed": false,
    "ExecuteTime": {
     "start_time": "2023-04-20T20:58:50.661423Z",
     "end_time": "2023-04-20T20:58:50.673604Z"
    }
   }
  },
  {
   "cell_type": "code",
   "execution_count": 13,
   "outputs": [
    {
     "data": {
      "text/plain": "'..(((((((...((((((.........))))))........((((((.......))))))..))))))).......((((((..........))))))...............'"
     },
     "execution_count": 13,
     "metadata": {},
     "output_type": "execute_result"
    }
   ],
   "source": [
    "rdat_sec.structure"
   ],
   "metadata": {
    "collapsed": false,
    "ExecuteTime": {
     "start_time": "2023-04-20T20:59:05.631691Z",
     "end_time": "2023-04-20T20:59:05.646050Z"
    }
   }
  },
  {
   "cell_type": "code",
   "execution_count": 14,
   "outputs": [
    {
     "data": {
      "text/plain": "[13,\n 14,\n 15,\n 16,\n 17,\n 18,\n 19,\n 20,\n 21,\n 22,\n 23,\n 24,\n 25,\n 26,\n 27,\n 28,\n 29,\n 30,\n 31,\n 32,\n 33,\n 34,\n 35,\n 36,\n 37,\n 38,\n 39,\n 40,\n 41,\n 42,\n 43,\n 44,\n 45,\n 46,\n 47,\n 48,\n 49,\n 50,\n 51,\n 52,\n 53,\n 54,\n 55,\n 56,\n 57,\n 58,\n 59,\n 60,\n 61,\n 62,\n 63,\n 64,\n 65,\n 66,\n 67,\n 68,\n 69,\n 70,\n 71,\n 72,\n 73,\n 74,\n 75,\n 76,\n 77,\n 78,\n 79,\n 80,\n 81,\n 82,\n 83,\n 84,\n 85,\n 86,\n 87,\n 88,\n 89,\n 90,\n 91,\n 92,\n 93,\n 94,\n 95,\n 96,\n 97,\n 98,\n 99,\n 100,\n 101,\n 102,\n 103,\n 104,\n 105,\n 106,\n 107,\n 108,\n 109,\n 110,\n 111,\n 112,\n 113,\n 114,\n 115,\n 116,\n 117,\n 118,\n 119,\n 120,\n 121,\n 122,\n 123,\n 124,\n 125]"
     },
     "execution_count": 14,
     "metadata": {},
     "output_type": "execute_result"
    }
   ],
   "source": [
    "rdat_sec.seqpos"
   ],
   "metadata": {
    "collapsed": false,
    "ExecuteTime": {
     "start_time": "2023-04-20T21:01:58.698564Z",
     "end_time": "2023-04-20T21:01:58.708325Z"
    }
   }
  },
  {
   "cell_type": "code",
   "execution_count": 44,
   "outputs": [
    {
     "name": "stdout",
     "output_type": "stream",
     "text": [
      "{'experimentType': ['StandardState'], 'chemical': ['Na-HEPES:50mM(pH8.0)', 'MgCl2:10mM'], 'temperature': ['24C'], 'processing': ['backgroundSubtraction', 'overmodificationCorrection']}\n",
      "{'modifier': ['1M7']} \n",
      "\t {'reads': [], 'seqpos': [], 'trace': [], 'values': [113], 'xsel': []}\n",
      "{'modifier': ['1M7'], 'chemical': ['adenine:5mM']} \n",
      "\t {'reads': [], 'seqpos': [], 'trace': [], 'values': [113], 'xsel': []}\n",
      "{'modifier': ['CMCT']} \n",
      "\t {'reads': [], 'seqpos': [], 'trace': [], 'values': [113], 'xsel': []}\n",
      "{'modifier': ['CMCT'], 'chemical': ['adenine:5mM']} \n",
      "\t {'reads': [], 'seqpos': [], 'trace': [], 'values': [113], 'xsel': []}\n",
      "{'modifier': ['DMS']} \n",
      "\t {'reads': [], 'seqpos': [], 'trace': [], 'values': [113], 'xsel': []}\n",
      "{'modifier': ['DMS'], 'chemical': ['adenine:5mM']} \n",
      "\t {'reads': [], 'seqpos': [], 'trace': [], 'values': [113], 'xsel': []}\n"
     ]
    }
   ],
   "source": [
    "# Experiment annotations\n",
    "print(rdat.annotations)\n",
    "\n",
    "# Chemical reactivity\n",
    "for sec in rdat_sec.data:\n",
    "    print(sec.annotations, \"\\n\\t\",\n",
    "          tensor_sizes({'reads': sec.reads, 'seqpos': sec.seqpos,'trace': sec.trace, 'values': np.array(sec.values), 'xsel': sec.xsel}))\n"
   ],
   "metadata": {
    "collapsed": false,
    "ExecuteTime": {
     "start_time": "2023-04-20T21:25:56.236487Z",
     "end_time": "2023-04-20T21:25:56.293338Z"
    }
   }
  },
  {
   "cell_type": "markdown",
   "source": [
    "## Explore ISATAB"
   ],
   "metadata": {
    "collapsed": false
   }
  },
  {
   "cell_type": "code",
   "execution_count": 17,
   "outputs": [
    {
     "data": {
      "text/plain": "<rdatkit.handler.ISATABFile at 0x7fcbcb644d30>"
     },
     "execution_count": 17,
     "metadata": {},
     "output_type": "execute_result"
    }
   ],
   "source": [
    "isatab = rdat.toISATAB()\n",
    "isatab"
   ],
   "metadata": {
    "collapsed": false,
    "ExecuteTime": {
     "start_time": "2023-04-20T18:53:41.570180Z",
     "end_time": "2023-04-20T18:53:41.574189Z"
    }
   }
  },
  {
   "cell_type": "code",
   "execution_count": 30,
   "outputs": [
    {
     "data": {
      "text/plain": "dict_keys(['Fluoride-Riboswitch,-B.-cereus,-1xBiotin-DNA-Template,-0-mM-NaF,-Replicate-3_WT_1', 'Fluoride-Riboswitch,-B.-cereus,-1xBiotin-DNA-Template,-0-mM-NaF,-Replicate-3_WT_2', 'Fluoride-Riboswitch,-B.-cereus,-1xBiotin-DNA-Template,-0-mM-NaF,-Replicate-3_WT_3', 'Fluoride-Riboswitch,-B.-cereus,-1xBiotin-DNA-Template,-0-mM-NaF,-Replicate-3_WT_4', 'Fluoride-Riboswitch,-B.-cereus,-1xBiotin-DNA-Template,-0-mM-NaF,-Replicate-3_WT_5', 'Fluoride-Riboswitch,-B.-cereus,-1xBiotin-DNA-Template,-0-mM-NaF,-Replicate-3_WT_6', 'Fluoride-Riboswitch,-B.-cereus,-1xBiotin-DNA-Template,-0-mM-NaF,-Replicate-3_WT_7', 'Fluoride-Riboswitch,-B.-cereus,-1xBiotin-DNA-Template,-0-mM-NaF,-Replicate-3_WT_8', 'Fluoride-Riboswitch,-B.-cereus,-1xBiotin-DNA-Template,-0-mM-NaF,-Replicate-3_WT_9', 'Fluoride-Riboswitch,-B.-cereus,-1xBiotin-DNA-Template,-0-mM-NaF,-Replicate-3_WT_10', 'Fluoride-Riboswitch,-B.-cereus,-1xBiotin-DNA-Template,-0-mM-NaF,-Replicate-3_WT_11', 'Fluoride-Riboswitch,-B.-cereus,-1xBiotin-DNA-Template,-0-mM-NaF,-Replicate-3_WT_12', 'Fluoride-Riboswitch,-B.-cereus,-1xBiotin-DNA-Template,-0-mM-NaF,-Replicate-3_WT_13', 'Fluoride-Riboswitch,-B.-cereus,-1xBiotin-DNA-Template,-0-mM-NaF,-Replicate-3_WT_14', 'Fluoride-Riboswitch,-B.-cereus,-1xBiotin-DNA-Template,-0-mM-NaF,-Replicate-3_WT_15', 'Fluoride-Riboswitch,-B.-cereus,-1xBiotin-DNA-Template,-0-mM-NaF,-Replicate-3_WT_16', 'Fluoride-Riboswitch,-B.-cereus,-1xBiotin-DNA-Template,-0-mM-NaF,-Replicate-3_WT_17', 'Fluoride-Riboswitch,-B.-cereus,-1xBiotin-DNA-Template,-0-mM-NaF,-Replicate-3_WT_18', 'Fluoride-Riboswitch,-B.-cereus,-1xBiotin-DNA-Template,-0-mM-NaF,-Replicate-3_WT_19', 'Fluoride-Riboswitch,-B.-cereus,-1xBiotin-DNA-Template,-0-mM-NaF,-Replicate-3_WT_20', 'Fluoride-Riboswitch,-B.-cereus,-1xBiotin-DNA-Template,-0-mM-NaF,-Replicate-3_WT_21', 'Fluoride-Riboswitch,-B.-cereus,-1xBiotin-DNA-Template,-0-mM-NaF,-Replicate-3_WT_22', 'Fluoride-Riboswitch,-B.-cereus,-1xBiotin-DNA-Template,-0-mM-NaF,-Replicate-3_WT_23', 'Fluoride-Riboswitch,-B.-cereus,-1xBiotin-DNA-Template,-0-mM-NaF,-Replicate-3_WT_24', 'Fluoride-Riboswitch,-B.-cereus,-1xBiotin-DNA-Template,-0-mM-NaF,-Replicate-3_WT_25', 'Fluoride-Riboswitch,-B.-cereus,-1xBiotin-DNA-Template,-0-mM-NaF,-Replicate-3_WT_26', 'Fluoride-Riboswitch,-B.-cereus,-1xBiotin-DNA-Template,-0-mM-NaF,-Replicate-3_WT_27', 'Fluoride-Riboswitch,-B.-cereus,-1xBiotin-DNA-Template,-0-mM-NaF,-Replicate-3_WT_28', 'Fluoride-Riboswitch,-B.-cereus,-1xBiotin-DNA-Template,-0-mM-NaF,-Replicate-3_WT_29', 'Fluoride-Riboswitch,-B.-cereus,-1xBiotin-DNA-Template,-0-mM-NaF,-Replicate-3_WT_30', 'Fluoride-Riboswitch,-B.-cereus,-1xBiotin-DNA-Template,-0-mM-NaF,-Replicate-3_WT_31', 'Fluoride-Riboswitch,-B.-cereus,-1xBiotin-DNA-Template,-0-mM-NaF,-Replicate-3_WT_32', 'Fluoride-Riboswitch,-B.-cereus,-1xBiotin-DNA-Template,-0-mM-NaF,-Replicate-3_WT_33', 'Fluoride-Riboswitch,-B.-cereus,-1xBiotin-DNA-Template,-0-mM-NaF,-Replicate-3_WT_34', 'Fluoride-Riboswitch,-B.-cereus,-1xBiotin-DNA-Template,-0-mM-NaF,-Replicate-3_WT_35', 'Fluoride-Riboswitch,-B.-cereus,-1xBiotin-DNA-Template,-0-mM-NaF,-Replicate-3_WT_36', 'Fluoride-Riboswitch,-B.-cereus,-1xBiotin-DNA-Template,-0-mM-NaF,-Replicate-3_WT_37', 'Fluoride-Riboswitch,-B.-cereus,-1xBiotin-DNA-Template,-0-mM-NaF,-Replicate-3_WT_38', 'Fluoride-Riboswitch,-B.-cereus,-1xBiotin-DNA-Template,-0-mM-NaF,-Replicate-3_WT_39', 'Fluoride-Riboswitch,-B.-cereus,-1xBiotin-DNA-Template,-0-mM-NaF,-Replicate-3_WT_40', 'Fluoride-Riboswitch,-B.-cereus,-1xBiotin-DNA-Template,-0-mM-NaF,-Replicate-3_WT_41', 'Fluoride-Riboswitch,-B.-cereus,-1xBiotin-DNA-Template,-0-mM-NaF,-Replicate-3_WT_42', 'Fluoride-Riboswitch,-B.-cereus,-1xBiotin-DNA-Template,-0-mM-NaF,-Replicate-3_WT_43', 'Fluoride-Riboswitch,-B.-cereus,-1xBiotin-DNA-Template,-0-mM-NaF,-Replicate-3_WT_44', 'Fluoride-Riboswitch,-B.-cereus,-1xBiotin-DNA-Template,-0-mM-NaF,-Replicate-3_WT_45', 'Fluoride-Riboswitch,-B.-cereus,-1xBiotin-DNA-Template,-0-mM-NaF,-Replicate-3_WT_46', 'Fluoride-Riboswitch,-B.-cereus,-1xBiotin-DNA-Template,-0-mM-NaF,-Replicate-3_WT_47', 'Fluoride-Riboswitch,-B.-cereus,-1xBiotin-DNA-Template,-0-mM-NaF,-Replicate-3_WT_48', 'Fluoride-Riboswitch,-B.-cereus,-1xBiotin-DNA-Template,-0-mM-NaF,-Replicate-3_WT_49', 'Fluoride-Riboswitch,-B.-cereus,-1xBiotin-DNA-Template,-0-mM-NaF,-Replicate-3_WT_50', 'Fluoride-Riboswitch,-B.-cereus,-1xBiotin-DNA-Template,-0-mM-NaF,-Replicate-3_WT_51', 'Fluoride-Riboswitch,-B.-cereus,-1xBiotin-DNA-Template,-0-mM-NaF,-Replicate-3_WT_52', 'Fluoride-Riboswitch,-B.-cereus,-1xBiotin-DNA-Template,-0-mM-NaF,-Replicate-3_WT_53', 'Fluoride-Riboswitch,-B.-cereus,-1xBiotin-DNA-Template,-0-mM-NaF,-Replicate-3_WT_54', 'Fluoride-Riboswitch,-B.-cereus,-1xBiotin-DNA-Template,-0-mM-NaF,-Replicate-3_WT_55', 'Fluoride-Riboswitch,-B.-cereus,-1xBiotin-DNA-Template,-0-mM-NaF,-Replicate-3_WT_56', 'Fluoride-Riboswitch,-B.-cereus,-1xBiotin-DNA-Template,-0-mM-NaF,-Replicate-3_WT_57', 'Fluoride-Riboswitch,-B.-cereus,-1xBiotin-DNA-Template,-0-mM-NaF,-Replicate-3_WT_58', 'Fluoride-Riboswitch,-B.-cereus,-1xBiotin-DNA-Template,-0-mM-NaF,-Replicate-3_WT_59', 'Fluoride-Riboswitch,-B.-cereus,-1xBiotin-DNA-Template,-0-mM-NaF,-Replicate-3_WT_60', 'Fluoride-Riboswitch,-B.-cereus,-1xBiotin-DNA-Template,-0-mM-NaF,-Replicate-3_WT_61', 'Fluoride-Riboswitch,-B.-cereus,-1xBiotin-DNA-Template,-0-mM-NaF,-Replicate-3_WT_62', 'Fluoride-Riboswitch,-B.-cereus,-1xBiotin-DNA-Template,-0-mM-NaF,-Replicate-3_WT_63', 'Fluoride-Riboswitch,-B.-cereus,-1xBiotin-DNA-Template,-0-mM-NaF,-Replicate-3_WT_64', 'Fluoride-Riboswitch,-B.-cereus,-1xBiotin-DNA-Template,-0-mM-NaF,-Replicate-3_WT_65', 'Fluoride-Riboswitch,-B.-cereus,-1xBiotin-DNA-Template,-0-mM-NaF,-Replicate-3_WT_66', 'Fluoride-Riboswitch,-B.-cereus,-1xBiotin-DNA-Template,-0-mM-NaF,-Replicate-3_WT_67', 'Fluoride-Riboswitch,-B.-cereus,-1xBiotin-DNA-Template,-0-mM-NaF,-Replicate-3_WT_68', 'Fluoride-Riboswitch,-B.-cereus,-1xBiotin-DNA-Template,-0-mM-NaF,-Replicate-3_WT_69', 'Fluoride-Riboswitch,-B.-cereus,-1xBiotin-DNA-Template,-0-mM-NaF,-Replicate-3_WT_70', 'Fluoride-Riboswitch,-B.-cereus,-1xBiotin-DNA-Template,-0-mM-NaF,-Replicate-3_WT_71', 'Fluoride-Riboswitch,-B.-cereus,-1xBiotin-DNA-Template,-0-mM-NaF,-Replicate-3_WT_72', 'Fluoride-Riboswitch,-B.-cereus,-1xBiotin-DNA-Template,-0-mM-NaF,-Replicate-3_WT_73', 'Fluoride-Riboswitch,-B.-cereus,-1xBiotin-DNA-Template,-0-mM-NaF,-Replicate-3_WT_74', 'Fluoride-Riboswitch,-B.-cereus,-1xBiotin-DNA-Template,-0-mM-NaF,-Replicate-3_WT_75', 'Fluoride-Riboswitch,-B.-cereus,-1xBiotin-DNA-Template,-0-mM-NaF,-Replicate-3_WT_76', 'Fluoride-Riboswitch,-B.-cereus,-1xBiotin-DNA-Template,-0-mM-NaF,-Replicate-3_WT_77', 'Fluoride-Riboswitch,-B.-cereus,-1xBiotin-DNA-Template,-0-mM-NaF,-Replicate-3_WT_78', 'Fluoride-Riboswitch,-B.-cereus,-1xBiotin-DNA-Template,-0-mM-NaF,-Replicate-3_WT_79', 'Fluoride-Riboswitch,-B.-cereus,-1xBiotin-DNA-Template,-0-mM-NaF,-Replicate-3_WT_80', 'Fluoride-Riboswitch,-B.-cereus,-1xBiotin-DNA-Template,-0-mM-NaF,-Replicate-3_WT_81', 'Fluoride-Riboswitch,-B.-cereus,-1xBiotin-DNA-Template,-0-mM-NaF,-Replicate-3_WT_82', 'Fluoride-Riboswitch,-B.-cereus,-1xBiotin-DNA-Template,-0-mM-NaF,-Replicate-3_WT_83', 'Fluoride-Riboswitch,-B.-cereus,-1xBiotin-DNA-Template,-0-mM-NaF,-Replicate-3_WT_84', 'Fluoride-Riboswitch,-B.-cereus,-1xBiotin-DNA-Template,-0-mM-NaF,-Replicate-3_WT_85', 'Fluoride-Riboswitch,-B.-cereus,-1xBiotin-DNA-Template,-0-mM-NaF,-Replicate-3_WT_86', 'Fluoride-Riboswitch,-B.-cereus,-1xBiotin-DNA-Template,-0-mM-NaF,-Replicate-3_WT_87', 'Fluoride-Riboswitch,-B.-cereus,-1xBiotin-DNA-Template,-0-mM-NaF,-Replicate-3_WT_88', 'Fluoride-Riboswitch,-B.-cereus,-1xBiotin-DNA-Template,-0-mM-NaF,-Replicate-3_WT_89', 'Fluoride-Riboswitch,-B.-cereus,-1xBiotin-DNA-Template,-0-mM-NaF,-Replicate-3_WT_90', 'Fluoride-Riboswitch,-B.-cereus,-1xBiotin-DNA-Template,-0-mM-NaF,-Replicate-3_WT_91', 'Fluoride-Riboswitch,-B.-cereus,-1xBiotin-DNA-Template,-0-mM-NaF,-Replicate-3_WT_92', 'Fluoride-Riboswitch,-B.-cereus,-1xBiotin-DNA-Template,-0-mM-NaF,-Replicate-3_WT_93', 'Fluoride-Riboswitch,-B.-cereus,-1xBiotin-DNA-Template,-0-mM-NaF,-Replicate-3_WT_94', 'Fluoride-Riboswitch,-B.-cereus,-1xBiotin-DNA-Template,-0-mM-NaF,-Replicate-3_WT_95', 'Fluoride-Riboswitch,-B.-cereus,-1xBiotin-DNA-Template,-0-mM-NaF,-Replicate-3_WT_96', 'Fluoride-Riboswitch,-B.-cereus,-1xBiotin-DNA-Template,-0-mM-NaF,-Replicate-3_WT_97', 'Fluoride-Riboswitch,-B.-cereus,-1xBiotin-DNA-Template,-0-mM-NaF,-Replicate-3_WT_98', 'Fluoride-Riboswitch,-B.-cereus,-1xBiotin-DNA-Template,-0-mM-NaF,-Replicate-3_WT_99', 'Fluoride-Riboswitch,-B.-cereus,-1xBiotin-DNA-Template,-0-mM-NaF,-Replicate-3_WT_100', 'Fluoride-Riboswitch,-B.-cereus,-1xBiotin-DNA-Template,-0-mM-NaF,-Replicate-3_WT_101', 'Fluoride-Riboswitch,-B.-cereus,-1xBiotin-DNA-Template,-0-mM-NaF,-Replicate-3_WT_102', 'Fluoride-Riboswitch,-B.-cereus,-1xBiotin-DNA-Template,-0-mM-NaF,-Replicate-3_WT_103', 'Fluoride-Riboswitch,-B.-cereus,-1xBiotin-DNA-Template,-0-mM-NaF,-Replicate-3_WT_104', 'Fluoride-Riboswitch,-B.-cereus,-1xBiotin-DNA-Template,-0-mM-NaF,-Replicate-3_WT_105', 'Fluoride-Riboswitch,-B.-cereus,-1xBiotin-DNA-Template,-0-mM-NaF,-Replicate-3_WT_106', 'Fluoride-Riboswitch,-B.-cereus,-1xBiotin-DNA-Template,-0-mM-NaF,-Replicate-3_WT_107', 'Fluoride-Riboswitch,-B.-cereus,-1xBiotin-DNA-Template,-0-mM-NaF,-Replicate-3_WT_108', 'Fluoride-Riboswitch,-B.-cereus,-1xBiotin-DNA-Template,-0-mM-NaF,-Replicate-3_WT_109', 'Fluoride-Riboswitch,-B.-cereus,-1xBiotin-DNA-Template,-0-mM-NaF,-Replicate-3_WT_110', 'Fluoride-Riboswitch,-B.-cereus,-1xBiotin-DNA-Template,-0-mM-NaF,-Replicate-3_WT_111', 'Fluoride-Riboswitch,-B.-cereus,-1xBiotin-DNA-Template,-0-mM-NaF,-Replicate-3_WT_112', 'Fluoride-Riboswitch,-B.-cereus,-1xBiotin-DNA-Template,-0-mM-NaF,-Replicate-3_WT_113', 'Fluoride-Riboswitch,-B.-cereus,-1xBiotin-DNA-Template,-0-mM-NaF,-Replicate-3_WT_114', 'Fluoride-Riboswitch,-B.-cereus,-1xBiotin-DNA-Template,-0-mM-NaF,-Replicate-3_WT_115', 'Fluoride-Riboswitch,-B.-cereus,-1xBiotin-DNA-Template,-0-mM-NaF,-Replicate-3_WT_116', 'Fluoride-Riboswitch,-B.-cereus,-1xBiotin-DNA-Template,-0-mM-NaF,-Replicate-3_WT_117', 'Fluoride-Riboswitch,-B.-cereus,-1xBiotin-DNA-Template,-0-mM-NaF,-Replicate-3_WT_118', 'Fluoride-Riboswitch,-B.-cereus,-1xBiotin-DNA-Template,-0-mM-NaF,-Replicate-3_WT_119', 'Fluoride-Riboswitch,-B.-cereus,-1xBiotin-DNA-Template,-0-mM-NaF,-Replicate-3_WT_120', 'Fluoride-Riboswitch,-B.-cereus,-1xBiotin-DNA-Template,-0-mM-NaF,-Replicate-3_WT_121', 'Fluoride-Riboswitch,-B.-cereus,-1xBiotin-DNA-Template,-0-mM-NaF,-Replicate-3_WT_122', 'Fluoride-Riboswitch,-B.-cereus,-1xBiotin-DNA-Template,-0-mM-NaF,-Replicate-3_WT_123', 'Fluoride-Riboswitch,-B.-cereus,-1xBiotin-DNA-Template,-0-mM-NaF,-Replicate-3_WT_124', 'Fluoride-Riboswitch,-B.-cereus,-1xBiotin-DNA-Template,-0-mM-NaF,-Replicate-3_WT_125', 'Fluoride-Riboswitch,-B.-cereus,-1xBiotin-DNA-Template,-0-mM-NaF,-Replicate-3_WT_126', 'Fluoride-Riboswitch,-B.-cereus,-1xBiotin-DNA-Template,-0-mM-NaF,-Replicate-3_WT_127', 'Fluoride-Riboswitch,-B.-cereus,-1xBiotin-DNA-Template,-0-mM-NaF,-Replicate-3_WT_128', 'Fluoride-Riboswitch,-B.-cereus,-1xBiotin-DNA-Template,-0-mM-NaF,-Replicate-3_WT_129', 'Fluoride-Riboswitch,-B.-cereus,-1xBiotin-DNA-Template,-0-mM-NaF,-Replicate-3_WT_130', 'Fluoride-Riboswitch,-B.-cereus,-1xBiotin-DNA-Template,-0-mM-NaF,-Replicate-3_WT_131', 'Fluoride-Riboswitch,-B.-cereus,-1xBiotin-DNA-Template,-0-mM-NaF,-Replicate-3_WT_132', 'Fluoride-Riboswitch,-B.-cereus,-1xBiotin-DNA-Template,-0-mM-NaF,-Replicate-3_WT_133', 'Fluoride-Riboswitch,-B.-cereus,-1xBiotin-DNA-Template,-0-mM-NaF,-Replicate-3_WT_134', 'Fluoride-Riboswitch,-B.-cereus,-1xBiotin-DNA-Template,-0-mM-NaF,-Replicate-3_WT_135', 'Fluoride-Riboswitch,-B.-cereus,-1xBiotin-DNA-Template,-0-mM-NaF,-Replicate-3_WT_136', 'Fluoride-Riboswitch,-B.-cereus,-1xBiotin-DNA-Template,-0-mM-NaF,-Replicate-3_WT_137', 'Fluoride-Riboswitch,-B.-cereus,-1xBiotin-DNA-Template,-0-mM-NaF,-Replicate-3_WT_138', 'Fluoride-Riboswitch,-B.-cereus,-1xBiotin-DNA-Template,-0-mM-NaF,-Replicate-3_WT_139', 'Fluoride-Riboswitch,-B.-cereus,-1xBiotin-DNA-Template,-0-mM-NaF,-Replicate-3_WT_140', 'Fluoride-Riboswitch,-B.-cereus,-1xBiotin-DNA-Template,-0-mM-NaF,-Replicate-3_WT_141', 'Fluoride-Riboswitch,-B.-cereus,-1xBiotin-DNA-Template,-0-mM-NaF,-Replicate-3_WT_142', 'Fluoride-Riboswitch,-B.-cereus,-1xBiotin-DNA-Template,-0-mM-NaF,-Replicate-3_WT_143', 'Fluoride-Riboswitch,-B.-cereus,-1xBiotin-DNA-Template,-0-mM-NaF,-Replicate-3_WT_144', 'Fluoride-Riboswitch,-B.-cereus,-1xBiotin-DNA-Template,-0-mM-NaF,-Replicate-3_WT_145', 'Fluoride-Riboswitch,-B.-cereus,-1xBiotin-DNA-Template,-0-mM-NaF,-Replicate-3_WT_146', 'Fluoride-Riboswitch,-B.-cereus,-1xBiotin-DNA-Template,-0-mM-NaF,-Replicate-3_WT_147', 'Fluoride-Riboswitch,-B.-cereus,-1xBiotin-DNA-Template,-0-mM-NaF,-Replicate-3_WT_148', 'Fluoride-Riboswitch,-B.-cereus,-1xBiotin-DNA-Template,-0-mM-NaF,-Replicate-3_WT_149', 'Fluoride-Riboswitch,-B.-cereus,-1xBiotin-DNA-Template,-0-mM-NaF,-Replicate-3_WT_150', 'Fluoride-Riboswitch,-B.-cereus,-1xBiotin-DNA-Template,-0-mM-NaF,-Replicate-3_WT_151', 'Fluoride-Riboswitch,-B.-cereus,-1xBiotin-DNA-Template,-0-mM-NaF,-Replicate-3_WT_152', 'Fluoride-Riboswitch,-B.-cereus,-1xBiotin-DNA-Template,-0-mM-NaF,-Replicate-3_WT_153', 'Fluoride-Riboswitch,-B.-cereus,-1xBiotin-DNA-Template,-0-mM-NaF,-Replicate-3_WT_154', 'Fluoride-Riboswitch,-B.-cereus,-1xBiotin-DNA-Template,-0-mM-NaF,-Replicate-3_WT_155', 'Fluoride-Riboswitch,-B.-cereus,-1xBiotin-DNA-Template,-0-mM-NaF,-Replicate-3_WT_156', 'Fluoride-Riboswitch,-B.-cereus,-1xBiotin-DNA-Template,-0-mM-NaF,-Replicate-3_WT_157', 'Fluoride-Riboswitch,-B.-cereus,-1xBiotin-DNA-Template,-0-mM-NaF,-Replicate-3_WT_158', 'Fluoride-Riboswitch,-B.-cereus,-1xBiotin-DNA-Template,-0-mM-NaF,-Replicate-3_WT_159', 'Fluoride-Riboswitch,-B.-cereus,-1xBiotin-DNA-Template,-0-mM-NaF,-Replicate-3_WT_160', 'Fluoride-Riboswitch,-B.-cereus,-1xBiotin-DNA-Template,-0-mM-NaF,-Replicate-3_WT_161', 'Fluoride-Riboswitch,-B.-cereus,-1xBiotin-DNA-Template,-0-mM-NaF,-Replicate-3_WT_162', 'Fluoride-Riboswitch,-B.-cereus,-1xBiotin-DNA-Template,-0-mM-NaF,-Replicate-3_WT_163', 'Fluoride-Riboswitch,-B.-cereus,-1xBiotin-DNA-Template,-0-mM-NaF,-Replicate-3_WT_164', 'Fluoride-Riboswitch,-B.-cereus,-1xBiotin-DNA-Template,-0-mM-NaF,-Replicate-3_WT_165', 'Fluoride-Riboswitch,-B.-cereus,-1xBiotin-DNA-Template,-0-mM-NaF,-Replicate-3_WT_166', 'Fluoride-Riboswitch,-B.-cereus,-1xBiotin-DNA-Template,-0-mM-NaF,-Replicate-3_WT_167', 'Fluoride-Riboswitch,-B.-cereus,-1xBiotin-DNA-Template,-0-mM-NaF,-Replicate-3_WT_168', 'Fluoride-Riboswitch,-B.-cereus,-1xBiotin-DNA-Template,-0-mM-NaF,-Replicate-3_WT_169', 'Fluoride-Riboswitch,-B.-cereus,-1xBiotin-DNA-Template,-0-mM-NaF,-Replicate-3_WT_170', 'Fluoride-Riboswitch,-B.-cereus,-1xBiotin-DNA-Template,-0-mM-NaF,-Replicate-3_WT_171', 'Fluoride-Riboswitch,-B.-cereus,-1xBiotin-DNA-Template,-0-mM-NaF,-Replicate-3_WT_172', 'Fluoride-Riboswitch,-B.-cereus,-1xBiotin-DNA-Template,-0-mM-NaF,-Replicate-3_WT_173', 'Fluoride-Riboswitch,-B.-cereus,-1xBiotin-DNA-Template,-0-mM-NaF,-Replicate-3_WT_174', 'Fluoride-Riboswitch,-B.-cereus,-1xBiotin-DNA-Template,-0-mM-NaF,-Replicate-3_WT_175', 'Fluoride-Riboswitch,-B.-cereus,-1xBiotin-DNA-Template,-0-mM-NaF,-Replicate-3_WT_176', 'Fluoride-Riboswitch,-B.-cereus,-1xBiotin-DNA-Template,-0-mM-NaF,-Replicate-3_WT_177', 'Fluoride-Riboswitch,-B.-cereus,-1xBiotin-DNA-Template,-0-mM-NaF,-Replicate-3_WT_178', 'Fluoride-Riboswitch,-B.-cereus,-1xBiotin-DNA-Template,-0-mM-NaF,-Replicate-3_WT_179', 'Fluoride-Riboswitch,-B.-cereus,-1xBiotin-DNA-Template,-0-mM-NaF,-Replicate-3_WT_180', 'Fluoride-Riboswitch,-B.-cereus,-1xBiotin-DNA-Template,-0-mM-NaF,-Replicate-3_WT_181', 'Fluoride-Riboswitch,-B.-cereus,-1xBiotin-DNA-Template,-0-mM-NaF,-Replicate-3_WT_182', 'Fluoride-Riboswitch,-B.-cereus,-1xBiotin-DNA-Template,-0-mM-NaF,-Replicate-3_WT_183', 'Fluoride-Riboswitch,-B.-cereus,-1xBiotin-DNA-Template,-0-mM-NaF,-Replicate-3_WT_184', 'Fluoride-Riboswitch,-B.-cereus,-1xBiotin-DNA-Template,-0-mM-NaF,-Replicate-3_WT_185', 'Fluoride-Riboswitch,-B.-cereus,-1xBiotin-DNA-Template,-0-mM-NaF,-Replicate-3_WT_186', 'Fluoride-Riboswitch,-B.-cereus,-1xBiotin-DNA-Template,-0-mM-NaF,-Replicate-3_WT_187', 'Fluoride-Riboswitch,-B.-cereus,-1xBiotin-DNA-Template,-0-mM-NaF,-Replicate-3_WT_188', 'Fluoride-Riboswitch,-B.-cereus,-1xBiotin-DNA-Template,-0-mM-NaF,-Replicate-3_WT_189', 'Fluoride-Riboswitch,-B.-cereus,-1xBiotin-DNA-Template,-0-mM-NaF,-Replicate-3_WT_190', 'Fluoride-Riboswitch,-B.-cereus,-1xBiotin-DNA-Template,-0-mM-NaF,-Replicate-3_WT_191', 'Fluoride-Riboswitch,-B.-cereus,-1xBiotin-DNA-Template,-0-mM-NaF,-Replicate-3_WT_192', 'Fluoride-Riboswitch,-B.-cereus,-1xBiotin-DNA-Template,-0-mM-NaF,-Replicate-3_WT_193', 'Fluoride-Riboswitch,-B.-cereus,-1xBiotin-DNA-Template,-0-mM-NaF,-Replicate-3_WT_194', 'Fluoride-Riboswitch,-B.-cereus,-1xBiotin-DNA-Template,-0-mM-NaF,-Replicate-3_WT_195', 'Fluoride-Riboswitch,-B.-cereus,-1xBiotin-DNA-Template,-0-mM-NaF,-Replicate-3_WT_196', 'Fluoride-Riboswitch,-B.-cereus,-1xBiotin-DNA-Template,-0-mM-NaF,-Replicate-3_WT_197', 'Fluoride-Riboswitch,-B.-cereus,-1xBiotin-DNA-Template,-0-mM-NaF,-Replicate-3_WT_198', 'Fluoride-Riboswitch,-B.-cereus,-1xBiotin-DNA-Template,-0-mM-NaF,-Replicate-3_WT_199', 'Fluoride-Riboswitch,-B.-cereus,-1xBiotin-DNA-Template,-0-mM-NaF,-Replicate-3_WT_200', 'Fluoride-Riboswitch,-B.-cereus,-1xBiotin-DNA-Template,-0-mM-NaF,-Replicate-3_WT_201', 'Fluoride-Riboswitch,-B.-cereus,-1xBiotin-DNA-Template,-0-mM-NaF,-Replicate-3_WT_202', 'Fluoride-Riboswitch,-B.-cereus,-1xBiotin-DNA-Template,-0-mM-NaF,-Replicate-3_WT_203', 'Fluoride-Riboswitch,-B.-cereus,-1xBiotin-DNA-Template,-0-mM-NaF,-Replicate-3_WT_204', 'Fluoride-Riboswitch,-B.-cereus,-1xBiotin-DNA-Template,-0-mM-NaF,-Replicate-3_WT_205', 'Fluoride-Riboswitch,-B.-cereus,-1xBiotin-DNA-Template,-0-mM-NaF,-Replicate-3_WT_206', 'Fluoride-Riboswitch,-B.-cereus,-1xBiotin-DNA-Template,-0-mM-NaF,-Replicate-3_WT_207', 'Fluoride-Riboswitch,-B.-cereus,-1xBiotin-DNA-Template,-0-mM-NaF,-Replicate-3_WT_208', 'Fluoride-Riboswitch,-B.-cereus,-1xBiotin-DNA-Template,-0-mM-NaF,-Replicate-3_WT_209', 'Fluoride-Riboswitch,-B.-cereus,-1xBiotin-DNA-Template,-0-mM-NaF,-Replicate-3_WT_210', 'Fluoride-Riboswitch,-B.-cereus,-1xBiotin-DNA-Template,-0-mM-NaF,-Replicate-3_WT_211', 'Fluoride-Riboswitch,-B.-cereus,-1xBiotin-DNA-Template,-0-mM-NaF,-Replicate-3_WT_212', 'Fluoride-Riboswitch,-B.-cereus,-1xBiotin-DNA-Template,-0-mM-NaF,-Replicate-3_WT_213'])"
     },
     "execution_count": 30,
     "metadata": {},
     "output_type": "execute_result"
    }
   ],
   "source": [
    "isatab.data.keys()"
   ],
   "metadata": {
    "collapsed": false,
    "ExecuteTime": {
     "start_time": "2023-04-20T19:06:36.764477Z",
     "end_time": "2023-04-20T19:06:36.781002Z"
    }
   }
  },
  {
   "cell_type": "code",
   "execution_count": null,
   "outputs": [],
   "source": [],
   "metadata": {
    "collapsed": false
   }
  }
 ],
 "metadata": {
  "kernelspec": {
   "display_name": "Python 3",
   "language": "python",
   "name": "python3"
  },
  "language_info": {
   "codemirror_mode": {
    "name": "ipython",
    "version": 2
   },
   "file_extension": ".py",
   "mimetype": "text/x-python",
   "name": "python",
   "nbconvert_exporter": "python",
   "pygments_lexer": "ipython2",
   "version": "2.7.6"
  }
 },
 "nbformat": 4,
 "nbformat_minor": 0
}
